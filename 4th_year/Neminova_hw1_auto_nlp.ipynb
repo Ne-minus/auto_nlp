{
  "nbformat": 4,
  "nbformat_minor": 0,
  "metadata": {
    "colab": {
      "provenance": [],
      "collapsed_sections": [
        "c59ujtSjX4sb"
      ]
    },
    "kernelspec": {
      "name": "python3",
      "display_name": "Python 3"
    },
    "language_info": {
      "name": "python"
    },
    "widgets": {
      "application/vnd.jupyter.widget-state+json": {
        "7925dd74c58e433e885961136bff7c11": {
          "model_module": "@jupyter-widgets/controls",
          "model_name": "HBoxModel",
          "model_module_version": "1.5.0",
          "state": {
            "_dom_classes": [],
            "_model_module": "@jupyter-widgets/controls",
            "_model_module_version": "1.5.0",
            "_model_name": "HBoxModel",
            "_view_count": null,
            "_view_module": "@jupyter-widgets/controls",
            "_view_module_version": "1.5.0",
            "_view_name": "HBoxView",
            "box_style": "",
            "children": [
              "IPY_MODEL_3048912f8aa44975aa89835ab4c37289",
              "IPY_MODEL_19c93cc474ef4fa290fcdbef3a7be18f",
              "IPY_MODEL_46c687d0dec44b7fae913900879dfa88"
            ],
            "layout": "IPY_MODEL_7598a302fc2a4fa98ae487ef713050a0"
          }
        },
        "3048912f8aa44975aa89835ab4c37289": {
          "model_module": "@jupyter-widgets/controls",
          "model_name": "HTMLModel",
          "model_module_version": "1.5.0",
          "state": {
            "_dom_classes": [],
            "_model_module": "@jupyter-widgets/controls",
            "_model_module_version": "1.5.0",
            "_model_name": "HTMLModel",
            "_view_count": null,
            "_view_module": "@jupyter-widgets/controls",
            "_view_module_version": "1.5.0",
            "_view_name": "HTMLView",
            "description": "",
            "description_tooltip": null,
            "layout": "IPY_MODEL_b7c350f286644fce90da7137b105090a",
            "placeholder": "​",
            "style": "IPY_MODEL_26b14943b4d543f3a7ab996f56fb70c1",
            "value": "100%"
          }
        },
        "19c93cc474ef4fa290fcdbef3a7be18f": {
          "model_module": "@jupyter-widgets/controls",
          "model_name": "FloatProgressModel",
          "model_module_version": "1.5.0",
          "state": {
            "_dom_classes": [],
            "_model_module": "@jupyter-widgets/controls",
            "_model_module_version": "1.5.0",
            "_model_name": "FloatProgressModel",
            "_view_count": null,
            "_view_module": "@jupyter-widgets/controls",
            "_view_module_version": "1.5.0",
            "_view_name": "ProgressView",
            "bar_style": "success",
            "description": "",
            "description_tooltip": null,
            "layout": "IPY_MODEL_47285ed9032d476cb6ae815a262920ea",
            "max": 36968,
            "min": 0,
            "orientation": "horizontal",
            "style": "IPY_MODEL_a29828381df540b9b14541c686c2a1fa",
            "value": 36968
          }
        },
        "46c687d0dec44b7fae913900879dfa88": {
          "model_module": "@jupyter-widgets/controls",
          "model_name": "HTMLModel",
          "model_module_version": "1.5.0",
          "state": {
            "_dom_classes": [],
            "_model_module": "@jupyter-widgets/controls",
            "_model_module_version": "1.5.0",
            "_model_name": "HTMLModel",
            "_view_count": null,
            "_view_module": "@jupyter-widgets/controls",
            "_view_module_version": "1.5.0",
            "_view_name": "HTMLView",
            "description": "",
            "description_tooltip": null,
            "layout": "IPY_MODEL_1409e5677970489a8f939247f52834a1",
            "placeholder": "​",
            "style": "IPY_MODEL_73a5b7204bb14673a7db25f20269e174",
            "value": " 36968/36968 [04:16&lt;00:00, 111.18it/s]"
          }
        },
        "7598a302fc2a4fa98ae487ef713050a0": {
          "model_module": "@jupyter-widgets/base",
          "model_name": "LayoutModel",
          "model_module_version": "1.2.0",
          "state": {
            "_model_module": "@jupyter-widgets/base",
            "_model_module_version": "1.2.0",
            "_model_name": "LayoutModel",
            "_view_count": null,
            "_view_module": "@jupyter-widgets/base",
            "_view_module_version": "1.2.0",
            "_view_name": "LayoutView",
            "align_content": null,
            "align_items": null,
            "align_self": null,
            "border": null,
            "bottom": null,
            "display": null,
            "flex": null,
            "flex_flow": null,
            "grid_area": null,
            "grid_auto_columns": null,
            "grid_auto_flow": null,
            "grid_auto_rows": null,
            "grid_column": null,
            "grid_gap": null,
            "grid_row": null,
            "grid_template_areas": null,
            "grid_template_columns": null,
            "grid_template_rows": null,
            "height": null,
            "justify_content": null,
            "justify_items": null,
            "left": null,
            "margin": null,
            "max_height": null,
            "max_width": null,
            "min_height": null,
            "min_width": null,
            "object_fit": null,
            "object_position": null,
            "order": null,
            "overflow": null,
            "overflow_x": null,
            "overflow_y": null,
            "padding": null,
            "right": null,
            "top": null,
            "visibility": null,
            "width": null
          }
        },
        "b7c350f286644fce90da7137b105090a": {
          "model_module": "@jupyter-widgets/base",
          "model_name": "LayoutModel",
          "model_module_version": "1.2.0",
          "state": {
            "_model_module": "@jupyter-widgets/base",
            "_model_module_version": "1.2.0",
            "_model_name": "LayoutModel",
            "_view_count": null,
            "_view_module": "@jupyter-widgets/base",
            "_view_module_version": "1.2.0",
            "_view_name": "LayoutView",
            "align_content": null,
            "align_items": null,
            "align_self": null,
            "border": null,
            "bottom": null,
            "display": null,
            "flex": null,
            "flex_flow": null,
            "grid_area": null,
            "grid_auto_columns": null,
            "grid_auto_flow": null,
            "grid_auto_rows": null,
            "grid_column": null,
            "grid_gap": null,
            "grid_row": null,
            "grid_template_areas": null,
            "grid_template_columns": null,
            "grid_template_rows": null,
            "height": null,
            "justify_content": null,
            "justify_items": null,
            "left": null,
            "margin": null,
            "max_height": null,
            "max_width": null,
            "min_height": null,
            "min_width": null,
            "object_fit": null,
            "object_position": null,
            "order": null,
            "overflow": null,
            "overflow_x": null,
            "overflow_y": null,
            "padding": null,
            "right": null,
            "top": null,
            "visibility": null,
            "width": null
          }
        },
        "26b14943b4d543f3a7ab996f56fb70c1": {
          "model_module": "@jupyter-widgets/controls",
          "model_name": "DescriptionStyleModel",
          "model_module_version": "1.5.0",
          "state": {
            "_model_module": "@jupyter-widgets/controls",
            "_model_module_version": "1.5.0",
            "_model_name": "DescriptionStyleModel",
            "_view_count": null,
            "_view_module": "@jupyter-widgets/base",
            "_view_module_version": "1.2.0",
            "_view_name": "StyleView",
            "description_width": ""
          }
        },
        "47285ed9032d476cb6ae815a262920ea": {
          "model_module": "@jupyter-widgets/base",
          "model_name": "LayoutModel",
          "model_module_version": "1.2.0",
          "state": {
            "_model_module": "@jupyter-widgets/base",
            "_model_module_version": "1.2.0",
            "_model_name": "LayoutModel",
            "_view_count": null,
            "_view_module": "@jupyter-widgets/base",
            "_view_module_version": "1.2.0",
            "_view_name": "LayoutView",
            "align_content": null,
            "align_items": null,
            "align_self": null,
            "border": null,
            "bottom": null,
            "display": null,
            "flex": null,
            "flex_flow": null,
            "grid_area": null,
            "grid_auto_columns": null,
            "grid_auto_flow": null,
            "grid_auto_rows": null,
            "grid_column": null,
            "grid_gap": null,
            "grid_row": null,
            "grid_template_areas": null,
            "grid_template_columns": null,
            "grid_template_rows": null,
            "height": null,
            "justify_content": null,
            "justify_items": null,
            "left": null,
            "margin": null,
            "max_height": null,
            "max_width": null,
            "min_height": null,
            "min_width": null,
            "object_fit": null,
            "object_position": null,
            "order": null,
            "overflow": null,
            "overflow_x": null,
            "overflow_y": null,
            "padding": null,
            "right": null,
            "top": null,
            "visibility": null,
            "width": null
          }
        },
        "a29828381df540b9b14541c686c2a1fa": {
          "model_module": "@jupyter-widgets/controls",
          "model_name": "ProgressStyleModel",
          "model_module_version": "1.5.0",
          "state": {
            "_model_module": "@jupyter-widgets/controls",
            "_model_module_version": "1.5.0",
            "_model_name": "ProgressStyleModel",
            "_view_count": null,
            "_view_module": "@jupyter-widgets/base",
            "_view_module_version": "1.2.0",
            "_view_name": "StyleView",
            "bar_color": null,
            "description_width": ""
          }
        },
        "1409e5677970489a8f939247f52834a1": {
          "model_module": "@jupyter-widgets/base",
          "model_name": "LayoutModel",
          "model_module_version": "1.2.0",
          "state": {
            "_model_module": "@jupyter-widgets/base",
            "_model_module_version": "1.2.0",
            "_model_name": "LayoutModel",
            "_view_count": null,
            "_view_module": "@jupyter-widgets/base",
            "_view_module_version": "1.2.0",
            "_view_name": "LayoutView",
            "align_content": null,
            "align_items": null,
            "align_self": null,
            "border": null,
            "bottom": null,
            "display": null,
            "flex": null,
            "flex_flow": null,
            "grid_area": null,
            "grid_auto_columns": null,
            "grid_auto_flow": null,
            "grid_auto_rows": null,
            "grid_column": null,
            "grid_gap": null,
            "grid_row": null,
            "grid_template_areas": null,
            "grid_template_columns": null,
            "grid_template_rows": null,
            "height": null,
            "justify_content": null,
            "justify_items": null,
            "left": null,
            "margin": null,
            "max_height": null,
            "max_width": null,
            "min_height": null,
            "min_width": null,
            "object_fit": null,
            "object_position": null,
            "order": null,
            "overflow": null,
            "overflow_x": null,
            "overflow_y": null,
            "padding": null,
            "right": null,
            "top": null,
            "visibility": null,
            "width": null
          }
        },
        "73a5b7204bb14673a7db25f20269e174": {
          "model_module": "@jupyter-widgets/controls",
          "model_name": "DescriptionStyleModel",
          "model_module_version": "1.5.0",
          "state": {
            "_model_module": "@jupyter-widgets/controls",
            "_model_module_version": "1.5.0",
            "_model_name": "DescriptionStyleModel",
            "_view_count": null,
            "_view_module": "@jupyter-widgets/base",
            "_view_module_version": "1.2.0",
            "_view_name": "StyleView",
            "description_width": ""
          }
        },
        "a2f576c6c48c4f0889b0c836bed2c447": {
          "model_module": "@jupyter-widgets/controls",
          "model_name": "HBoxModel",
          "model_module_version": "1.5.0",
          "state": {
            "_dom_classes": [],
            "_model_module": "@jupyter-widgets/controls",
            "_model_module_version": "1.5.0",
            "_model_name": "HBoxModel",
            "_view_count": null,
            "_view_module": "@jupyter-widgets/controls",
            "_view_module_version": "1.5.0",
            "_view_name": "HBoxView",
            "box_style": "",
            "children": [
              "IPY_MODEL_1a3450dee6374adda59b50227220affb",
              "IPY_MODEL_39d656abb8bb4bf086908ac871c9f02e",
              "IPY_MODEL_5e9e8ed0861b47439845a86b80e81db0"
            ],
            "layout": "IPY_MODEL_786c9a61f1414ef3ab76398e06bff7fe"
          }
        },
        "1a3450dee6374adda59b50227220affb": {
          "model_module": "@jupyter-widgets/controls",
          "model_name": "HTMLModel",
          "model_module_version": "1.5.0",
          "state": {
            "_dom_classes": [],
            "_model_module": "@jupyter-widgets/controls",
            "_model_module_version": "1.5.0",
            "_model_name": "HTMLModel",
            "_view_count": null,
            "_view_module": "@jupyter-widgets/controls",
            "_view_module_version": "1.5.0",
            "_view_name": "HTMLView",
            "description": "",
            "description_tooltip": null,
            "layout": "IPY_MODEL_a124f77be1624eafb2b602780e2b69c1",
            "placeholder": "​",
            "style": "IPY_MODEL_0f2ea9ded00d4f36ad9a11dbfe69c62b",
            "value": "100%"
          }
        },
        "39d656abb8bb4bf086908ac871c9f02e": {
          "model_module": "@jupyter-widgets/controls",
          "model_name": "FloatProgressModel",
          "model_module_version": "1.5.0",
          "state": {
            "_dom_classes": [],
            "_model_module": "@jupyter-widgets/controls",
            "_model_module_version": "1.5.0",
            "_model_name": "FloatProgressModel",
            "_view_count": null,
            "_view_module": "@jupyter-widgets/controls",
            "_view_module_version": "1.5.0",
            "_view_name": "ProgressView",
            "bar_style": "success",
            "description": "",
            "description_tooltip": null,
            "layout": "IPY_MODEL_43499beeb1404654b130ef12268a2ec6",
            "max": 4599,
            "min": 0,
            "orientation": "horizontal",
            "style": "IPY_MODEL_e86c0cc1b82843b693e25d127db26a94",
            "value": 4599
          }
        },
        "5e9e8ed0861b47439845a86b80e81db0": {
          "model_module": "@jupyter-widgets/controls",
          "model_name": "HTMLModel",
          "model_module_version": "1.5.0",
          "state": {
            "_dom_classes": [],
            "_model_module": "@jupyter-widgets/controls",
            "_model_module_version": "1.5.0",
            "_model_name": "HTMLModel",
            "_view_count": null,
            "_view_module": "@jupyter-widgets/controls",
            "_view_module_version": "1.5.0",
            "_view_name": "HTMLView",
            "description": "",
            "description_tooltip": null,
            "layout": "IPY_MODEL_79f80a5844e64bf48dda05809ab4e911",
            "placeholder": "​",
            "style": "IPY_MODEL_48f3cd404fec4468917dd6c92dd5d415",
            "value": " 4599/4599 [00:42&lt;00:00, 107.28it/s]"
          }
        },
        "786c9a61f1414ef3ab76398e06bff7fe": {
          "model_module": "@jupyter-widgets/base",
          "model_name": "LayoutModel",
          "model_module_version": "1.2.0",
          "state": {
            "_model_module": "@jupyter-widgets/base",
            "_model_module_version": "1.2.0",
            "_model_name": "LayoutModel",
            "_view_count": null,
            "_view_module": "@jupyter-widgets/base",
            "_view_module_version": "1.2.0",
            "_view_name": "LayoutView",
            "align_content": null,
            "align_items": null,
            "align_self": null,
            "border": null,
            "bottom": null,
            "display": null,
            "flex": null,
            "flex_flow": null,
            "grid_area": null,
            "grid_auto_columns": null,
            "grid_auto_flow": null,
            "grid_auto_rows": null,
            "grid_column": null,
            "grid_gap": null,
            "grid_row": null,
            "grid_template_areas": null,
            "grid_template_columns": null,
            "grid_template_rows": null,
            "height": null,
            "justify_content": null,
            "justify_items": null,
            "left": null,
            "margin": null,
            "max_height": null,
            "max_width": null,
            "min_height": null,
            "min_width": null,
            "object_fit": null,
            "object_position": null,
            "order": null,
            "overflow": null,
            "overflow_x": null,
            "overflow_y": null,
            "padding": null,
            "right": null,
            "top": null,
            "visibility": null,
            "width": null
          }
        },
        "a124f77be1624eafb2b602780e2b69c1": {
          "model_module": "@jupyter-widgets/base",
          "model_name": "LayoutModel",
          "model_module_version": "1.2.0",
          "state": {
            "_model_module": "@jupyter-widgets/base",
            "_model_module_version": "1.2.0",
            "_model_name": "LayoutModel",
            "_view_count": null,
            "_view_module": "@jupyter-widgets/base",
            "_view_module_version": "1.2.0",
            "_view_name": "LayoutView",
            "align_content": null,
            "align_items": null,
            "align_self": null,
            "border": null,
            "bottom": null,
            "display": null,
            "flex": null,
            "flex_flow": null,
            "grid_area": null,
            "grid_auto_columns": null,
            "grid_auto_flow": null,
            "grid_auto_rows": null,
            "grid_column": null,
            "grid_gap": null,
            "grid_row": null,
            "grid_template_areas": null,
            "grid_template_columns": null,
            "grid_template_rows": null,
            "height": null,
            "justify_content": null,
            "justify_items": null,
            "left": null,
            "margin": null,
            "max_height": null,
            "max_width": null,
            "min_height": null,
            "min_width": null,
            "object_fit": null,
            "object_position": null,
            "order": null,
            "overflow": null,
            "overflow_x": null,
            "overflow_y": null,
            "padding": null,
            "right": null,
            "top": null,
            "visibility": null,
            "width": null
          }
        },
        "0f2ea9ded00d4f36ad9a11dbfe69c62b": {
          "model_module": "@jupyter-widgets/controls",
          "model_name": "DescriptionStyleModel",
          "model_module_version": "1.5.0",
          "state": {
            "_model_module": "@jupyter-widgets/controls",
            "_model_module_version": "1.5.0",
            "_model_name": "DescriptionStyleModel",
            "_view_count": null,
            "_view_module": "@jupyter-widgets/base",
            "_view_module_version": "1.2.0",
            "_view_name": "StyleView",
            "description_width": ""
          }
        },
        "43499beeb1404654b130ef12268a2ec6": {
          "model_module": "@jupyter-widgets/base",
          "model_name": "LayoutModel",
          "model_module_version": "1.2.0",
          "state": {
            "_model_module": "@jupyter-widgets/base",
            "_model_module_version": "1.2.0",
            "_model_name": "LayoutModel",
            "_view_count": null,
            "_view_module": "@jupyter-widgets/base",
            "_view_module_version": "1.2.0",
            "_view_name": "LayoutView",
            "align_content": null,
            "align_items": null,
            "align_self": null,
            "border": null,
            "bottom": null,
            "display": null,
            "flex": null,
            "flex_flow": null,
            "grid_area": null,
            "grid_auto_columns": null,
            "grid_auto_flow": null,
            "grid_auto_rows": null,
            "grid_column": null,
            "grid_gap": null,
            "grid_row": null,
            "grid_template_areas": null,
            "grid_template_columns": null,
            "grid_template_rows": null,
            "height": null,
            "justify_content": null,
            "justify_items": null,
            "left": null,
            "margin": null,
            "max_height": null,
            "max_width": null,
            "min_height": null,
            "min_width": null,
            "object_fit": null,
            "object_position": null,
            "order": null,
            "overflow": null,
            "overflow_x": null,
            "overflow_y": null,
            "padding": null,
            "right": null,
            "top": null,
            "visibility": null,
            "width": null
          }
        },
        "e86c0cc1b82843b693e25d127db26a94": {
          "model_module": "@jupyter-widgets/controls",
          "model_name": "ProgressStyleModel",
          "model_module_version": "1.5.0",
          "state": {
            "_model_module": "@jupyter-widgets/controls",
            "_model_module_version": "1.5.0",
            "_model_name": "ProgressStyleModel",
            "_view_count": null,
            "_view_module": "@jupyter-widgets/base",
            "_view_module_version": "1.2.0",
            "_view_name": "StyleView",
            "bar_color": null,
            "description_width": ""
          }
        },
        "79f80a5844e64bf48dda05809ab4e911": {
          "model_module": "@jupyter-widgets/base",
          "model_name": "LayoutModel",
          "model_module_version": "1.2.0",
          "state": {
            "_model_module": "@jupyter-widgets/base",
            "_model_module_version": "1.2.0",
            "_model_name": "LayoutModel",
            "_view_count": null,
            "_view_module": "@jupyter-widgets/base",
            "_view_module_version": "1.2.0",
            "_view_name": "LayoutView",
            "align_content": null,
            "align_items": null,
            "align_self": null,
            "border": null,
            "bottom": null,
            "display": null,
            "flex": null,
            "flex_flow": null,
            "grid_area": null,
            "grid_auto_columns": null,
            "grid_auto_flow": null,
            "grid_auto_rows": null,
            "grid_column": null,
            "grid_gap": null,
            "grid_row": null,
            "grid_template_areas": null,
            "grid_template_columns": null,
            "grid_template_rows": null,
            "height": null,
            "justify_content": null,
            "justify_items": null,
            "left": null,
            "margin": null,
            "max_height": null,
            "max_width": null,
            "min_height": null,
            "min_width": null,
            "object_fit": null,
            "object_position": null,
            "order": null,
            "overflow": null,
            "overflow_x": null,
            "overflow_y": null,
            "padding": null,
            "right": null,
            "top": null,
            "visibility": null,
            "width": null
          }
        },
        "48f3cd404fec4468917dd6c92dd5d415": {
          "model_module": "@jupyter-widgets/controls",
          "model_name": "DescriptionStyleModel",
          "model_module_version": "1.5.0",
          "state": {
            "_model_module": "@jupyter-widgets/controls",
            "_model_module_version": "1.5.0",
            "_model_name": "DescriptionStyleModel",
            "_view_count": null,
            "_view_module": "@jupyter-widgets/base",
            "_view_module_version": "1.2.0",
            "_view_name": "StyleView",
            "description_width": ""
          }
        },
        "70d4cfdaa0a3435ca79c11a3de4726ad": {
          "model_module": "@jupyter-widgets/controls",
          "model_name": "HBoxModel",
          "model_module_version": "1.5.0",
          "state": {
            "_dom_classes": [],
            "_model_module": "@jupyter-widgets/controls",
            "_model_module_version": "1.5.0",
            "_model_name": "HBoxModel",
            "_view_count": null,
            "_view_module": "@jupyter-widgets/controls",
            "_view_module_version": "1.5.0",
            "_view_name": "HBoxView",
            "box_style": "",
            "children": [
              "IPY_MODEL_85bec9e8b0c74f91b0641c86f6ab7cab",
              "IPY_MODEL_c2f294f665364806a257e69d5b67366f",
              "IPY_MODEL_05d0f2385221404391e2513a366b664a"
            ],
            "layout": "IPY_MODEL_d126fdccf31e4a54a25e8faa87516a0a"
          }
        },
        "85bec9e8b0c74f91b0641c86f6ab7cab": {
          "model_module": "@jupyter-widgets/controls",
          "model_name": "HTMLModel",
          "model_module_version": "1.5.0",
          "state": {
            "_dom_classes": [],
            "_model_module": "@jupyter-widgets/controls",
            "_model_module_version": "1.5.0",
            "_model_name": "HTMLModel",
            "_view_count": null,
            "_view_module": "@jupyter-widgets/controls",
            "_view_module_version": "1.5.0",
            "_view_name": "HTMLView",
            "description": "",
            "description_tooltip": null,
            "layout": "IPY_MODEL_2d88e2126fa744a198613969d7ec8598",
            "placeholder": "​",
            "style": "IPY_MODEL_236d8e325ec0472888ef69182ba3eba7",
            "value": "100%"
          }
        },
        "c2f294f665364806a257e69d5b67366f": {
          "model_module": "@jupyter-widgets/controls",
          "model_name": "FloatProgressModel",
          "model_module_version": "1.5.0",
          "state": {
            "_dom_classes": [],
            "_model_module": "@jupyter-widgets/controls",
            "_model_module_version": "1.5.0",
            "_model_name": "FloatProgressModel",
            "_view_count": null,
            "_view_module": "@jupyter-widgets/controls",
            "_view_module_version": "1.5.0",
            "_view_name": "ProgressView",
            "bar_style": "success",
            "description": "",
            "description_tooltip": null,
            "layout": "IPY_MODEL_c817ff30448740b99f9b34759488bbeb",
            "max": 41,
            "min": 0,
            "orientation": "horizontal",
            "style": "IPY_MODEL_fc853097d6e040b2aa5f6c0e4e2e912e",
            "value": 41
          }
        },
        "05d0f2385221404391e2513a366b664a": {
          "model_module": "@jupyter-widgets/controls",
          "model_name": "HTMLModel",
          "model_module_version": "1.5.0",
          "state": {
            "_dom_classes": [],
            "_model_module": "@jupyter-widgets/controls",
            "_model_module_version": "1.5.0",
            "_model_name": "HTMLModel",
            "_view_count": null,
            "_view_module": "@jupyter-widgets/controls",
            "_view_module_version": "1.5.0",
            "_view_name": "HTMLView",
            "description": "",
            "description_tooltip": null,
            "layout": "IPY_MODEL_2b07fbb812794162a9ad5b7a58ca2422",
            "placeholder": "​",
            "style": "IPY_MODEL_7bea38d613ac4d9a93641b15e2f27f4c",
            "value": " 41/41 [00:00&lt;00:00, 295.79it/s]"
          }
        },
        "d126fdccf31e4a54a25e8faa87516a0a": {
          "model_module": "@jupyter-widgets/base",
          "model_name": "LayoutModel",
          "model_module_version": "1.2.0",
          "state": {
            "_model_module": "@jupyter-widgets/base",
            "_model_module_version": "1.2.0",
            "_model_name": "LayoutModel",
            "_view_count": null,
            "_view_module": "@jupyter-widgets/base",
            "_view_module_version": "1.2.0",
            "_view_name": "LayoutView",
            "align_content": null,
            "align_items": null,
            "align_self": null,
            "border": null,
            "bottom": null,
            "display": null,
            "flex": null,
            "flex_flow": null,
            "grid_area": null,
            "grid_auto_columns": null,
            "grid_auto_flow": null,
            "grid_auto_rows": null,
            "grid_column": null,
            "grid_gap": null,
            "grid_row": null,
            "grid_template_areas": null,
            "grid_template_columns": null,
            "grid_template_rows": null,
            "height": null,
            "justify_content": null,
            "justify_items": null,
            "left": null,
            "margin": null,
            "max_height": null,
            "max_width": null,
            "min_height": null,
            "min_width": null,
            "object_fit": null,
            "object_position": null,
            "order": null,
            "overflow": null,
            "overflow_x": null,
            "overflow_y": null,
            "padding": null,
            "right": null,
            "top": null,
            "visibility": null,
            "width": null
          }
        },
        "2d88e2126fa744a198613969d7ec8598": {
          "model_module": "@jupyter-widgets/base",
          "model_name": "LayoutModel",
          "model_module_version": "1.2.0",
          "state": {
            "_model_module": "@jupyter-widgets/base",
            "_model_module_version": "1.2.0",
            "_model_name": "LayoutModel",
            "_view_count": null,
            "_view_module": "@jupyter-widgets/base",
            "_view_module_version": "1.2.0",
            "_view_name": "LayoutView",
            "align_content": null,
            "align_items": null,
            "align_self": null,
            "border": null,
            "bottom": null,
            "display": null,
            "flex": null,
            "flex_flow": null,
            "grid_area": null,
            "grid_auto_columns": null,
            "grid_auto_flow": null,
            "grid_auto_rows": null,
            "grid_column": null,
            "grid_gap": null,
            "grid_row": null,
            "grid_template_areas": null,
            "grid_template_columns": null,
            "grid_template_rows": null,
            "height": null,
            "justify_content": null,
            "justify_items": null,
            "left": null,
            "margin": null,
            "max_height": null,
            "max_width": null,
            "min_height": null,
            "min_width": null,
            "object_fit": null,
            "object_position": null,
            "order": null,
            "overflow": null,
            "overflow_x": null,
            "overflow_y": null,
            "padding": null,
            "right": null,
            "top": null,
            "visibility": null,
            "width": null
          }
        },
        "236d8e325ec0472888ef69182ba3eba7": {
          "model_module": "@jupyter-widgets/controls",
          "model_name": "DescriptionStyleModel",
          "model_module_version": "1.5.0",
          "state": {
            "_model_module": "@jupyter-widgets/controls",
            "_model_module_version": "1.5.0",
            "_model_name": "DescriptionStyleModel",
            "_view_count": null,
            "_view_module": "@jupyter-widgets/base",
            "_view_module_version": "1.2.0",
            "_view_name": "StyleView",
            "description_width": ""
          }
        },
        "c817ff30448740b99f9b34759488bbeb": {
          "model_module": "@jupyter-widgets/base",
          "model_name": "LayoutModel",
          "model_module_version": "1.2.0",
          "state": {
            "_model_module": "@jupyter-widgets/base",
            "_model_module_version": "1.2.0",
            "_model_name": "LayoutModel",
            "_view_count": null,
            "_view_module": "@jupyter-widgets/base",
            "_view_module_version": "1.2.0",
            "_view_name": "LayoutView",
            "align_content": null,
            "align_items": null,
            "align_self": null,
            "border": null,
            "bottom": null,
            "display": null,
            "flex": null,
            "flex_flow": null,
            "grid_area": null,
            "grid_auto_columns": null,
            "grid_auto_flow": null,
            "grid_auto_rows": null,
            "grid_column": null,
            "grid_gap": null,
            "grid_row": null,
            "grid_template_areas": null,
            "grid_template_columns": null,
            "grid_template_rows": null,
            "height": null,
            "justify_content": null,
            "justify_items": null,
            "left": null,
            "margin": null,
            "max_height": null,
            "max_width": null,
            "min_height": null,
            "min_width": null,
            "object_fit": null,
            "object_position": null,
            "order": null,
            "overflow": null,
            "overflow_x": null,
            "overflow_y": null,
            "padding": null,
            "right": null,
            "top": null,
            "visibility": null,
            "width": null
          }
        },
        "fc853097d6e040b2aa5f6c0e4e2e912e": {
          "model_module": "@jupyter-widgets/controls",
          "model_name": "ProgressStyleModel",
          "model_module_version": "1.5.0",
          "state": {
            "_model_module": "@jupyter-widgets/controls",
            "_model_module_version": "1.5.0",
            "_model_name": "ProgressStyleModel",
            "_view_count": null,
            "_view_module": "@jupyter-widgets/base",
            "_view_module_version": "1.2.0",
            "_view_name": "StyleView",
            "bar_color": null,
            "description_width": ""
          }
        },
        "2b07fbb812794162a9ad5b7a58ca2422": {
          "model_module": "@jupyter-widgets/base",
          "model_name": "LayoutModel",
          "model_module_version": "1.2.0",
          "state": {
            "_model_module": "@jupyter-widgets/base",
            "_model_module_version": "1.2.0",
            "_model_name": "LayoutModel",
            "_view_count": null,
            "_view_module": "@jupyter-widgets/base",
            "_view_module_version": "1.2.0",
            "_view_name": "LayoutView",
            "align_content": null,
            "align_items": null,
            "align_self": null,
            "border": null,
            "bottom": null,
            "display": null,
            "flex": null,
            "flex_flow": null,
            "grid_area": null,
            "grid_auto_columns": null,
            "grid_auto_flow": null,
            "grid_auto_rows": null,
            "grid_column": null,
            "grid_gap": null,
            "grid_row": null,
            "grid_template_areas": null,
            "grid_template_columns": null,
            "grid_template_rows": null,
            "height": null,
            "justify_content": null,
            "justify_items": null,
            "left": null,
            "margin": null,
            "max_height": null,
            "max_width": null,
            "min_height": null,
            "min_width": null,
            "object_fit": null,
            "object_position": null,
            "order": null,
            "overflow": null,
            "overflow_x": null,
            "overflow_y": null,
            "padding": null,
            "right": null,
            "top": null,
            "visibility": null,
            "width": null
          }
        },
        "7bea38d613ac4d9a93641b15e2f27f4c": {
          "model_module": "@jupyter-widgets/controls",
          "model_name": "DescriptionStyleModel",
          "model_module_version": "1.5.0",
          "state": {
            "_model_module": "@jupyter-widgets/controls",
            "_model_module_version": "1.5.0",
            "_model_name": "DescriptionStyleModel",
            "_view_count": null,
            "_view_module": "@jupyter-widgets/base",
            "_view_module_version": "1.2.0",
            "_view_name": "StyleView",
            "description_width": ""
          }
        },
        "11556a53aef042c1b89a9120661ebac2": {
          "model_module": "@jupyter-widgets/controls",
          "model_name": "HBoxModel",
          "model_module_version": "1.5.0",
          "state": {
            "_dom_classes": [],
            "_model_module": "@jupyter-widgets/controls",
            "_model_module_version": "1.5.0",
            "_model_name": "HBoxModel",
            "_view_count": null,
            "_view_module": "@jupyter-widgets/controls",
            "_view_module_version": "1.5.0",
            "_view_name": "HBoxView",
            "box_style": "",
            "children": [
              "IPY_MODEL_c5f3eb590c77422ea28b292a4101a27b",
              "IPY_MODEL_a5c1e0d0117a4bbe905ccdd427d533a4",
              "IPY_MODEL_428d9166700743a38296d747e50df9c1"
            ],
            "layout": "IPY_MODEL_90bc2eca5eeb4ce394cd5bf5dbd22982"
          }
        },
        "c5f3eb590c77422ea28b292a4101a27b": {
          "model_module": "@jupyter-widgets/controls",
          "model_name": "HTMLModel",
          "model_module_version": "1.5.0",
          "state": {
            "_dom_classes": [],
            "_model_module": "@jupyter-widgets/controls",
            "_model_module_version": "1.5.0",
            "_model_name": "HTMLModel",
            "_view_count": null,
            "_view_module": "@jupyter-widgets/controls",
            "_view_module_version": "1.5.0",
            "_view_name": "HTMLView",
            "description": "",
            "description_tooltip": null,
            "layout": "IPY_MODEL_390be64acda1457e80296a8a754766d3",
            "placeholder": "​",
            "style": "IPY_MODEL_b4c906ae526649c588b3d80196978c3f",
            "value": "100%"
          }
        },
        "a5c1e0d0117a4bbe905ccdd427d533a4": {
          "model_module": "@jupyter-widgets/controls",
          "model_name": "FloatProgressModel",
          "model_module_version": "1.5.0",
          "state": {
            "_dom_classes": [],
            "_model_module": "@jupyter-widgets/controls",
            "_model_module_version": "1.5.0",
            "_model_name": "FloatProgressModel",
            "_view_count": null,
            "_view_module": "@jupyter-widgets/controls",
            "_view_module_version": "1.5.0",
            "_view_name": "ProgressView",
            "bar_style": "success",
            "description": "",
            "description_tooltip": null,
            "layout": "IPY_MODEL_2af2914dbdfc4d7293633bdc2b9f2431",
            "max": 2381,
            "min": 0,
            "orientation": "horizontal",
            "style": "IPY_MODEL_57e0d86a8103492d9ade1e39454f2b49",
            "value": 2381
          }
        },
        "428d9166700743a38296d747e50df9c1": {
          "model_module": "@jupyter-widgets/controls",
          "model_name": "HTMLModel",
          "model_module_version": "1.5.0",
          "state": {
            "_dom_classes": [],
            "_model_module": "@jupyter-widgets/controls",
            "_model_module_version": "1.5.0",
            "_model_name": "HTMLModel",
            "_view_count": null,
            "_view_module": "@jupyter-widgets/controls",
            "_view_module_version": "1.5.0",
            "_view_name": "HTMLView",
            "description": "",
            "description_tooltip": null,
            "layout": "IPY_MODEL_56824b3995854145ae50123e3ba7e72a",
            "placeholder": "​",
            "style": "IPY_MODEL_868702949c7b4f45bef02e87e8ab08a8",
            "value": " 2381/2381 [00:53&lt;00:00, 60.20it/s]"
          }
        },
        "90bc2eca5eeb4ce394cd5bf5dbd22982": {
          "model_module": "@jupyter-widgets/base",
          "model_name": "LayoutModel",
          "model_module_version": "1.2.0",
          "state": {
            "_model_module": "@jupyter-widgets/base",
            "_model_module_version": "1.2.0",
            "_model_name": "LayoutModel",
            "_view_count": null,
            "_view_module": "@jupyter-widgets/base",
            "_view_module_version": "1.2.0",
            "_view_name": "LayoutView",
            "align_content": null,
            "align_items": null,
            "align_self": null,
            "border": null,
            "bottom": null,
            "display": null,
            "flex": null,
            "flex_flow": null,
            "grid_area": null,
            "grid_auto_columns": null,
            "grid_auto_flow": null,
            "grid_auto_rows": null,
            "grid_column": null,
            "grid_gap": null,
            "grid_row": null,
            "grid_template_areas": null,
            "grid_template_columns": null,
            "grid_template_rows": null,
            "height": null,
            "justify_content": null,
            "justify_items": null,
            "left": null,
            "margin": null,
            "max_height": null,
            "max_width": null,
            "min_height": null,
            "min_width": null,
            "object_fit": null,
            "object_position": null,
            "order": null,
            "overflow": null,
            "overflow_x": null,
            "overflow_y": null,
            "padding": null,
            "right": null,
            "top": null,
            "visibility": null,
            "width": null
          }
        },
        "390be64acda1457e80296a8a754766d3": {
          "model_module": "@jupyter-widgets/base",
          "model_name": "LayoutModel",
          "model_module_version": "1.2.0",
          "state": {
            "_model_module": "@jupyter-widgets/base",
            "_model_module_version": "1.2.0",
            "_model_name": "LayoutModel",
            "_view_count": null,
            "_view_module": "@jupyter-widgets/base",
            "_view_module_version": "1.2.0",
            "_view_name": "LayoutView",
            "align_content": null,
            "align_items": null,
            "align_self": null,
            "border": null,
            "bottom": null,
            "display": null,
            "flex": null,
            "flex_flow": null,
            "grid_area": null,
            "grid_auto_columns": null,
            "grid_auto_flow": null,
            "grid_auto_rows": null,
            "grid_column": null,
            "grid_gap": null,
            "grid_row": null,
            "grid_template_areas": null,
            "grid_template_columns": null,
            "grid_template_rows": null,
            "height": null,
            "justify_content": null,
            "justify_items": null,
            "left": null,
            "margin": null,
            "max_height": null,
            "max_width": null,
            "min_height": null,
            "min_width": null,
            "object_fit": null,
            "object_position": null,
            "order": null,
            "overflow": null,
            "overflow_x": null,
            "overflow_y": null,
            "padding": null,
            "right": null,
            "top": null,
            "visibility": null,
            "width": null
          }
        },
        "b4c906ae526649c588b3d80196978c3f": {
          "model_module": "@jupyter-widgets/controls",
          "model_name": "DescriptionStyleModel",
          "model_module_version": "1.5.0",
          "state": {
            "_model_module": "@jupyter-widgets/controls",
            "_model_module_version": "1.5.0",
            "_model_name": "DescriptionStyleModel",
            "_view_count": null,
            "_view_module": "@jupyter-widgets/base",
            "_view_module_version": "1.2.0",
            "_view_name": "StyleView",
            "description_width": ""
          }
        },
        "2af2914dbdfc4d7293633bdc2b9f2431": {
          "model_module": "@jupyter-widgets/base",
          "model_name": "LayoutModel",
          "model_module_version": "1.2.0",
          "state": {
            "_model_module": "@jupyter-widgets/base",
            "_model_module_version": "1.2.0",
            "_model_name": "LayoutModel",
            "_view_count": null,
            "_view_module": "@jupyter-widgets/base",
            "_view_module_version": "1.2.0",
            "_view_name": "LayoutView",
            "align_content": null,
            "align_items": null,
            "align_self": null,
            "border": null,
            "bottom": null,
            "display": null,
            "flex": null,
            "flex_flow": null,
            "grid_area": null,
            "grid_auto_columns": null,
            "grid_auto_flow": null,
            "grid_auto_rows": null,
            "grid_column": null,
            "grid_gap": null,
            "grid_row": null,
            "grid_template_areas": null,
            "grid_template_columns": null,
            "grid_template_rows": null,
            "height": null,
            "justify_content": null,
            "justify_items": null,
            "left": null,
            "margin": null,
            "max_height": null,
            "max_width": null,
            "min_height": null,
            "min_width": null,
            "object_fit": null,
            "object_position": null,
            "order": null,
            "overflow": null,
            "overflow_x": null,
            "overflow_y": null,
            "padding": null,
            "right": null,
            "top": null,
            "visibility": null,
            "width": null
          }
        },
        "57e0d86a8103492d9ade1e39454f2b49": {
          "model_module": "@jupyter-widgets/controls",
          "model_name": "ProgressStyleModel",
          "model_module_version": "1.5.0",
          "state": {
            "_model_module": "@jupyter-widgets/controls",
            "_model_module_version": "1.5.0",
            "_model_name": "ProgressStyleModel",
            "_view_count": null,
            "_view_module": "@jupyter-widgets/base",
            "_view_module_version": "1.2.0",
            "_view_name": "StyleView",
            "bar_color": null,
            "description_width": ""
          }
        },
        "56824b3995854145ae50123e3ba7e72a": {
          "model_module": "@jupyter-widgets/base",
          "model_name": "LayoutModel",
          "model_module_version": "1.2.0",
          "state": {
            "_model_module": "@jupyter-widgets/base",
            "_model_module_version": "1.2.0",
            "_model_name": "LayoutModel",
            "_view_count": null,
            "_view_module": "@jupyter-widgets/base",
            "_view_module_version": "1.2.0",
            "_view_name": "LayoutView",
            "align_content": null,
            "align_items": null,
            "align_self": null,
            "border": null,
            "bottom": null,
            "display": null,
            "flex": null,
            "flex_flow": null,
            "grid_area": null,
            "grid_auto_columns": null,
            "grid_auto_flow": null,
            "grid_auto_rows": null,
            "grid_column": null,
            "grid_gap": null,
            "grid_row": null,
            "grid_template_areas": null,
            "grid_template_columns": null,
            "grid_template_rows": null,
            "height": null,
            "justify_content": null,
            "justify_items": null,
            "left": null,
            "margin": null,
            "max_height": null,
            "max_width": null,
            "min_height": null,
            "min_width": null,
            "object_fit": null,
            "object_position": null,
            "order": null,
            "overflow": null,
            "overflow_x": null,
            "overflow_y": null,
            "padding": null,
            "right": null,
            "top": null,
            "visibility": null,
            "width": null
          }
        },
        "868702949c7b4f45bef02e87e8ab08a8": {
          "model_module": "@jupyter-widgets/controls",
          "model_name": "DescriptionStyleModel",
          "model_module_version": "1.5.0",
          "state": {
            "_model_module": "@jupyter-widgets/controls",
            "_model_module_version": "1.5.0",
            "_model_name": "DescriptionStyleModel",
            "_view_count": null,
            "_view_module": "@jupyter-widgets/base",
            "_view_module_version": "1.2.0",
            "_view_name": "StyleView",
            "description_width": ""
          }
        },
        "cfa4b666415c4951a17f7384ddaf9ca9": {
          "model_module": "@jupyter-widgets/controls",
          "model_name": "HBoxModel",
          "model_module_version": "1.5.0",
          "state": {
            "_dom_classes": [],
            "_model_module": "@jupyter-widgets/controls",
            "_model_module_version": "1.5.0",
            "_model_name": "HBoxModel",
            "_view_count": null,
            "_view_module": "@jupyter-widgets/controls",
            "_view_module_version": "1.5.0",
            "_view_name": "HBoxView",
            "box_style": "",
            "children": [
              "IPY_MODEL_7bb846d49c564bbd8529db9fe4c99ae3",
              "IPY_MODEL_17e21abe36d4475b9d56fa86017da100",
              "IPY_MODEL_dcc29f033a4640bb8d7549a924ac3c90"
            ],
            "layout": "IPY_MODEL_0198b5e8f6c1424c96d4ef289217637f"
          }
        },
        "7bb846d49c564bbd8529db9fe4c99ae3": {
          "model_module": "@jupyter-widgets/controls",
          "model_name": "HTMLModel",
          "model_module_version": "1.5.0",
          "state": {
            "_dom_classes": [],
            "_model_module": "@jupyter-widgets/controls",
            "_model_module_version": "1.5.0",
            "_model_name": "HTMLModel",
            "_view_count": null,
            "_view_module": "@jupyter-widgets/controls",
            "_view_module_version": "1.5.0",
            "_view_name": "HTMLView",
            "description": "",
            "description_tooltip": null,
            "layout": "IPY_MODEL_102031ecc0c944789b1606ffc0ddbd33",
            "placeholder": "​",
            "style": "IPY_MODEL_851f898a5611495db7d0b4d54469a8ee",
            "value": "100%"
          }
        },
        "17e21abe36d4475b9d56fa86017da100": {
          "model_module": "@jupyter-widgets/controls",
          "model_name": "FloatProgressModel",
          "model_module_version": "1.5.0",
          "state": {
            "_dom_classes": [],
            "_model_module": "@jupyter-widgets/controls",
            "_model_module_version": "1.5.0",
            "_model_name": "FloatProgressModel",
            "_view_count": null,
            "_view_module": "@jupyter-widgets/controls",
            "_view_module_version": "1.5.0",
            "_view_name": "ProgressView",
            "bar_style": "success",
            "description": "",
            "description_tooltip": null,
            "layout": "IPY_MODEL_42f0024a6d4442898b386163856cdef0",
            "max": 6,
            "min": 0,
            "orientation": "horizontal",
            "style": "IPY_MODEL_c4fc902368bd4f06a4752ecdf2295cf1",
            "value": 6
          }
        },
        "dcc29f033a4640bb8d7549a924ac3c90": {
          "model_module": "@jupyter-widgets/controls",
          "model_name": "HTMLModel",
          "model_module_version": "1.5.0",
          "state": {
            "_dom_classes": [],
            "_model_module": "@jupyter-widgets/controls",
            "_model_module_version": "1.5.0",
            "_model_name": "HTMLModel",
            "_view_count": null,
            "_view_module": "@jupyter-widgets/controls",
            "_view_module_version": "1.5.0",
            "_view_name": "HTMLView",
            "description": "",
            "description_tooltip": null,
            "layout": "IPY_MODEL_6b43e08a002148ff96d8e993ead2a451",
            "placeholder": "​",
            "style": "IPY_MODEL_6a0f4627aec741d88d4b649fcb0e4b2b",
            "value": " 6/6 [00:00&lt;00:00, 27.76it/s]"
          }
        },
        "0198b5e8f6c1424c96d4ef289217637f": {
          "model_module": "@jupyter-widgets/base",
          "model_name": "LayoutModel",
          "model_module_version": "1.2.0",
          "state": {
            "_model_module": "@jupyter-widgets/base",
            "_model_module_version": "1.2.0",
            "_model_name": "LayoutModel",
            "_view_count": null,
            "_view_module": "@jupyter-widgets/base",
            "_view_module_version": "1.2.0",
            "_view_name": "LayoutView",
            "align_content": null,
            "align_items": null,
            "align_self": null,
            "border": null,
            "bottom": null,
            "display": null,
            "flex": null,
            "flex_flow": null,
            "grid_area": null,
            "grid_auto_columns": null,
            "grid_auto_flow": null,
            "grid_auto_rows": null,
            "grid_column": null,
            "grid_gap": null,
            "grid_row": null,
            "grid_template_areas": null,
            "grid_template_columns": null,
            "grid_template_rows": null,
            "height": null,
            "justify_content": null,
            "justify_items": null,
            "left": null,
            "margin": null,
            "max_height": null,
            "max_width": null,
            "min_height": null,
            "min_width": null,
            "object_fit": null,
            "object_position": null,
            "order": null,
            "overflow": null,
            "overflow_x": null,
            "overflow_y": null,
            "padding": null,
            "right": null,
            "top": null,
            "visibility": null,
            "width": null
          }
        },
        "102031ecc0c944789b1606ffc0ddbd33": {
          "model_module": "@jupyter-widgets/base",
          "model_name": "LayoutModel",
          "model_module_version": "1.2.0",
          "state": {
            "_model_module": "@jupyter-widgets/base",
            "_model_module_version": "1.2.0",
            "_model_name": "LayoutModel",
            "_view_count": null,
            "_view_module": "@jupyter-widgets/base",
            "_view_module_version": "1.2.0",
            "_view_name": "LayoutView",
            "align_content": null,
            "align_items": null,
            "align_self": null,
            "border": null,
            "bottom": null,
            "display": null,
            "flex": null,
            "flex_flow": null,
            "grid_area": null,
            "grid_auto_columns": null,
            "grid_auto_flow": null,
            "grid_auto_rows": null,
            "grid_column": null,
            "grid_gap": null,
            "grid_row": null,
            "grid_template_areas": null,
            "grid_template_columns": null,
            "grid_template_rows": null,
            "height": null,
            "justify_content": null,
            "justify_items": null,
            "left": null,
            "margin": null,
            "max_height": null,
            "max_width": null,
            "min_height": null,
            "min_width": null,
            "object_fit": null,
            "object_position": null,
            "order": null,
            "overflow": null,
            "overflow_x": null,
            "overflow_y": null,
            "padding": null,
            "right": null,
            "top": null,
            "visibility": null,
            "width": null
          }
        },
        "851f898a5611495db7d0b4d54469a8ee": {
          "model_module": "@jupyter-widgets/controls",
          "model_name": "DescriptionStyleModel",
          "model_module_version": "1.5.0",
          "state": {
            "_model_module": "@jupyter-widgets/controls",
            "_model_module_version": "1.5.0",
            "_model_name": "DescriptionStyleModel",
            "_view_count": null,
            "_view_module": "@jupyter-widgets/base",
            "_view_module_version": "1.2.0",
            "_view_name": "StyleView",
            "description_width": ""
          }
        },
        "42f0024a6d4442898b386163856cdef0": {
          "model_module": "@jupyter-widgets/base",
          "model_name": "LayoutModel",
          "model_module_version": "1.2.0",
          "state": {
            "_model_module": "@jupyter-widgets/base",
            "_model_module_version": "1.2.0",
            "_model_name": "LayoutModel",
            "_view_count": null,
            "_view_module": "@jupyter-widgets/base",
            "_view_module_version": "1.2.0",
            "_view_name": "LayoutView",
            "align_content": null,
            "align_items": null,
            "align_self": null,
            "border": null,
            "bottom": null,
            "display": null,
            "flex": null,
            "flex_flow": null,
            "grid_area": null,
            "grid_auto_columns": null,
            "grid_auto_flow": null,
            "grid_auto_rows": null,
            "grid_column": null,
            "grid_gap": null,
            "grid_row": null,
            "grid_template_areas": null,
            "grid_template_columns": null,
            "grid_template_rows": null,
            "height": null,
            "justify_content": null,
            "justify_items": null,
            "left": null,
            "margin": null,
            "max_height": null,
            "max_width": null,
            "min_height": null,
            "min_width": null,
            "object_fit": null,
            "object_position": null,
            "order": null,
            "overflow": null,
            "overflow_x": null,
            "overflow_y": null,
            "padding": null,
            "right": null,
            "top": null,
            "visibility": null,
            "width": null
          }
        },
        "c4fc902368bd4f06a4752ecdf2295cf1": {
          "model_module": "@jupyter-widgets/controls",
          "model_name": "ProgressStyleModel",
          "model_module_version": "1.5.0",
          "state": {
            "_model_module": "@jupyter-widgets/controls",
            "_model_module_version": "1.5.0",
            "_model_name": "ProgressStyleModel",
            "_view_count": null,
            "_view_module": "@jupyter-widgets/base",
            "_view_module_version": "1.2.0",
            "_view_name": "StyleView",
            "bar_color": null,
            "description_width": ""
          }
        },
        "6b43e08a002148ff96d8e993ead2a451": {
          "model_module": "@jupyter-widgets/base",
          "model_name": "LayoutModel",
          "model_module_version": "1.2.0",
          "state": {
            "_model_module": "@jupyter-widgets/base",
            "_model_module_version": "1.2.0",
            "_model_name": "LayoutModel",
            "_view_count": null,
            "_view_module": "@jupyter-widgets/base",
            "_view_module_version": "1.2.0",
            "_view_name": "LayoutView",
            "align_content": null,
            "align_items": null,
            "align_self": null,
            "border": null,
            "bottom": null,
            "display": null,
            "flex": null,
            "flex_flow": null,
            "grid_area": null,
            "grid_auto_columns": null,
            "grid_auto_flow": null,
            "grid_auto_rows": null,
            "grid_column": null,
            "grid_gap": null,
            "grid_row": null,
            "grid_template_areas": null,
            "grid_template_columns": null,
            "grid_template_rows": null,
            "height": null,
            "justify_content": null,
            "justify_items": null,
            "left": null,
            "margin": null,
            "max_height": null,
            "max_width": null,
            "min_height": null,
            "min_width": null,
            "object_fit": null,
            "object_position": null,
            "order": null,
            "overflow": null,
            "overflow_x": null,
            "overflow_y": null,
            "padding": null,
            "right": null,
            "top": null,
            "visibility": null,
            "width": null
          }
        },
        "6a0f4627aec741d88d4b649fcb0e4b2b": {
          "model_module": "@jupyter-widgets/controls",
          "model_name": "DescriptionStyleModel",
          "model_module_version": "1.5.0",
          "state": {
            "_model_module": "@jupyter-widgets/controls",
            "_model_module_version": "1.5.0",
            "_model_name": "DescriptionStyleModel",
            "_view_count": null,
            "_view_module": "@jupyter-widgets/base",
            "_view_module_version": "1.2.0",
            "_view_name": "StyleView",
            "description_width": ""
          }
        }
      }
    }
  },
  "cells": [
    {
      "cell_type": "markdown",
      "source": [
        "## Комментарии к коду\n",
        "\n",
        "\n",
        "\n",
        "1.   Словарь --  МАС\n",
        "2.   Датасет -- сокращенный Lenta.ru (взяла его, так как там содержатся тексты из оченб разных доменов: происшествия, культура, медицина, спорт, политика и тд.)\n",
        "3. Далее вы увидите раздел \"Дособираю данные\". Изначально в списке моих многозначных лексем присутствовало слово *игла*, которое при разметке в большинстве случаев оказалось именем собственным для оружия или частью топонима --> его при разметке учитывать было нельзя, и чтобы не пересобирать датасет я добавила слово *мера*. Если запустить все ячейки последовательно, то получится необходимый датасет.\n",
        "\n"
      ],
      "metadata": {
        "id": "prSoK_57n2W8"
      }
    },
    {
      "cell_type": "code",
      "execution_count": null,
      "metadata": {
        "id": "Uq4RPIjtvKU1"
      },
      "outputs": [],
      "source": [
        "!wget https://github.com/yutkin/Lenta.Ru-News-Dataset/releases/download/v1.0/lenta-ru-news.csv.gz"
      ]
    },
    {
      "cell_type": "code",
      "source": [
        "!pip install tensorflow Cython matplotlib simple-elmo"
      ],
      "metadata": {
        "id": "UWLtY0omGQra"
      },
      "execution_count": null,
      "outputs": []
    },
    {
      "cell_type": "code",
      "source": [
        "!pip install git+https://github.com/lopuhin/python-adagram.git"
      ],
      "metadata": {
        "id": "-Z74qscYGeMm"
      },
      "execution_count": null,
      "outputs": []
    },
    {
      "cell_type": "code",
      "source": [
        "!pip install pymorphy2"
      ],
      "metadata": {
        "id": "r9f8NmxNGyHB"
      },
      "execution_count": null,
      "outputs": []
    },
    {
      "cell_type": "code",
      "source": [
        "! gunzip /content/lenta-ru-news.csv.gz"
      ],
      "metadata": {
        "id": "sUYQpnBFvciQ"
      },
      "execution_count": 24,
      "outputs": []
    },
    {
      "cell_type": "code",
      "source": [
        "import adagram\n",
        "from simple_elmo import ElmoModel\n",
        "\n",
        "# обработка данных и ML\n",
        "import pandas as pd\n",
        "import nltk\n",
        "from lxml import html\n",
        "from nltk.tokenize import RegexpTokenizer\n",
        "from nltk.corpus import stopwords\n",
        "from pymorphy2 import MorphAnalyzer\n",
        "from pymystem3 import Mystem\n",
        "from tqdm.notebook import tqdm\n",
        "from tqdm import trange\n",
        "from sklearn.metrics import adjusted_rand_score\n",
        "from sklearn.decomposition import PCA\n",
        "from sklearn.cluster import *\n",
        "from collections import Counter\n",
        "import numpy as np\n",
        "from matplotlib import pyplot as plt\n",
        "\n",
        "%matplotlib inline\n",
        "import warnings\n",
        "warnings.filterwarnings('ignore')\n",
        "nltk.download('stopwords')\n",
        "\n",
        "morph = MorphAnalyzer()\n",
        "token = RegexpTokenizer('\\w+')\n",
        "stops = set(stopwords.words('russian'))\n",
        "\n",
        "def normalize(text):\n",
        "    words = [morph.parse(word)[0].normal_form for word in tokenize(text) if word]\n",
        "    return words\n",
        "\n",
        "def tokenize(text):\n",
        "    return token.tokenize(text)"
      ],
      "metadata": {
        "colab": {
          "base_uri": "https://localhost:8080/"
        },
        "id": "_kVx2G9VvjpH",
        "outputId": "b32dbdde-f848-4f2c-8bb4-4766aa81b4c8"
      },
      "execution_count": 4,
      "outputs": [
        {
          "output_type": "stream",
          "name": "stderr",
          "text": [
            "[nltk_data] Downloading package stopwords to /root/nltk_data...\n",
            "[nltk_data]   Unzipping corpora/stopwords.zip.\n"
          ]
        }
      ]
    },
    {
      "cell_type": "markdown",
      "source": [
        "## Подготовка датасета с контекстами"
      ],
      "metadata": {
        "id": "bDZzlC8cY0om"
      }
    },
    {
      "cell_type": "code",
      "source": [
        "df = pd.read_csv('/content/lenta-ru-news.csv')"
      ],
      "metadata": {
        "id": "a0bvdIGiv9zV"
      },
      "execution_count": 30,
      "outputs": []
    },
    {
      "cell_type": "code",
      "source": [
        "df = df.sample(frac=0.05)\n",
        "df = df.dropna(subset=['text'])"
      ],
      "metadata": {
        "id": "BECqHDFm0N4h"
      },
      "execution_count": 31,
      "outputs": []
    },
    {
      "cell_type": "code",
      "source": [
        "df = df[['text', 'topic', 'tags']]"
      ],
      "metadata": {
        "id": "PtOpZHJpCJFS"
      },
      "execution_count": 32,
      "outputs": []
    },
    {
      "cell_type": "code",
      "source": [
        "tqdm.pandas()"
      ],
      "metadata": {
        "id": "x2meenW_LgZO"
      },
      "execution_count": 33,
      "outputs": []
    },
    {
      "cell_type": "code",
      "source": [
        "mystem = Mystem()\n",
        "def lemmatized_context(s):\n",
        "    return [w.lower() for w in mystem.lemmatize(\" \".join(tokenize(s)))]"
      ],
      "metadata": {
        "id": "MW5C71vdHLcd"
      },
      "execution_count": 34,
      "outputs": []
    },
    {
      "cell_type": "code",
      "source": [
        "df['lemmatized'] = df['text'].progress_apply(lemmatized_context)"
      ],
      "metadata": {
        "colab": {
          "base_uri": "https://localhost:8080/",
          "height": 49,
          "referenced_widgets": [
            "7925dd74c58e433e885961136bff7c11",
            "3048912f8aa44975aa89835ab4c37289",
            "19c93cc474ef4fa290fcdbef3a7be18f",
            "46c687d0dec44b7fae913900879dfa88",
            "7598a302fc2a4fa98ae487ef713050a0",
            "b7c350f286644fce90da7137b105090a",
            "26b14943b4d543f3a7ab996f56fb70c1",
            "47285ed9032d476cb6ae815a262920ea",
            "a29828381df540b9b14541c686c2a1fa",
            "1409e5677970489a8f939247f52834a1",
            "73a5b7204bb14673a7db25f20269e174"
          ]
        },
        "id": "KLdOpjOIEnw3",
        "outputId": "9ab80893-3882-4600-e980-7d6318cc70af"
      },
      "execution_count": 35,
      "outputs": [
        {
          "data": {
            "application/vnd.jupyter.widget-view+json": {
              "model_id": "7925dd74c58e433e885961136bff7c11",
              "version_major": 2,
              "version_minor": 0
            },
            "text/plain": [
              "  0%|          | 0/36968 [00:00<?, ?it/s]"
            ]
          },
          "metadata": {},
          "output_type": "display_data"
        }
      ]
    },
    {
      "cell_type": "code",
      "source": [
        "def get_alignment(lemmas):\n",
        "  words = ['кисть', 'игла', 'ключ', 'игра', 'хвост', 'мера']\n",
        "  for i in words:\n",
        "    if i in lemmas:\n",
        "      return i\n",
        "  return False"
      ],
      "metadata": {
        "id": "ZZZ4z0wMRVVM"
      },
      "execution_count": 36,
      "outputs": []
    },
    {
      "cell_type": "code",
      "source": [
        "df['aligned'] = df.lemmatized.apply(get_alignment)"
      ],
      "metadata": {
        "id": "x2DjHS7P1WaM"
      },
      "execution_count": 37,
      "outputs": []
    },
    {
      "cell_type": "code",
      "source": [
        "def joiner(string):\n",
        "  return ''.join(string)"
      ],
      "metadata": {
        "id": "NxLeJserkAmV"
      },
      "execution_count": 38,
      "outputs": []
    },
    {
      "cell_type": "code",
      "source": [
        "target_df = df[df['aligned'] != False]"
      ],
      "metadata": {
        "id": "Fx4-Kv9OUfTY"
      },
      "execution_count": 39,
      "outputs": []
    },
    {
      "cell_type": "code",
      "source": [
        "target_df['lemmatized'] = target_df['lemmatized'].apply(lambda x: ''.join(x).strip('\\n'))\n",
        "target_df"
      ],
      "metadata": {
        "id": "EsDHiHKMlROA"
      },
      "execution_count": null,
      "outputs": []
    },
    {
      "cell_type": "code",
      "source": [
        "target_df.to_csv('mas_contexts_1_fin.csv')"
      ],
      "metadata": {
        "id": "dKfMIFoXWA8B"
      },
      "execution_count": 53,
      "outputs": []
    },
    {
      "cell_type": "markdown",
      "source": [
        "## Дезамбигуация контекстов и значений\n"
      ],
      "metadata": {
        "id": "fI81ePDbY8ig"
      }
    },
    {
      "cell_type": "code",
      "source": [
        "!curl \"https://s3.amazonaws.com/kostia.lopuhin/all.a010.p10.d300.w5.m100.nonorm.slim.joblib\" > all.a010.p10.d300.w5.m100.nonorm.slim.joblib"
      ],
      "metadata": {
        "colab": {
          "base_uri": "https://localhost:8080/"
        },
        "id": "vpG_H_YKSDn4",
        "outputId": "47d396db-f4ca-41ad-c3ec-ef26f73eb749"
      },
      "execution_count": 6,
      "outputs": [
        {
          "output_type": "stream",
          "name": "stdout",
          "text": [
            "  % Total    % Received % Xferd  Average Speed   Time    Time     Time  Current\n",
            "                                 Dload  Upload   Total   Spent    Left  Speed\n",
            "100 1394M  100 1394M    0     0  55.6M      0  0:00:25  0:00:25 --:--:-- 52.2M\n"
          ]
        }
      ]
    },
    {
      "cell_type": "code",
      "source": [
        "target_df = pd.read_csv('/content/mas_contexts_1_fin.csv')"
      ],
      "metadata": {
        "id": "WOmEjjqCibGt"
      },
      "execution_count": 10,
      "outputs": []
    },
    {
      "cell_type": "code",
      "source": [
        "vm = adagram.VectorModel.load('all.a010.p10.d300.w5.m100.nonorm.slim.joblib')"
      ],
      "metadata": {
        "id": "tmnnlWXGeWw6"
      },
      "execution_count": 7,
      "outputs": []
    },
    {
      "cell_type": "code",
      "source": [
        "context_dict = target_df.groupby('aligned')['lemmatized'].apply(list).to_dict()"
      ],
      "metadata": {
        "id": "vXOhLLFmei-R"
      },
      "execution_count": 12,
      "outputs": []
    },
    {
      "cell_type": "code",
      "source": [
        "def disambiguate(model, word, context):\n",
        "    word = lemmatized_context(word)[0]\n",
        "    # context = ' '.join(context)\n",
        "    probs = model.disambiguate(word, lemmatized_context(context))\n",
        "    return 1 + probs.argmax()"
      ],
      "metadata": {
        "id": "EOHkVOt3fn0B"
      },
      "execution_count": 13,
      "outputs": []
    },
    {
      "cell_type": "code",
      "source": [
        "target_df['predict_sense_id'] = [disambiguate(vm, word, context) for word, context in tqdm(zip(target_df['aligned'], target_df['text']), total=len(target_df))]"
      ],
      "metadata": {
        "colab": {
          "base_uri": "https://localhost:8080/",
          "height": 49,
          "referenced_widgets": [
            "a2f576c6c48c4f0889b0c836bed2c447",
            "1a3450dee6374adda59b50227220affb",
            "39d656abb8bb4bf086908ac871c9f02e",
            "5e9e8ed0861b47439845a86b80e81db0",
            "786c9a61f1414ef3ab76398e06bff7fe",
            "a124f77be1624eafb2b602780e2b69c1",
            "0f2ea9ded00d4f36ad9a11dbfe69c62b",
            "43499beeb1404654b130ef12268a2ec6",
            "e86c0cc1b82843b693e25d127db26a94",
            "79f80a5844e64bf48dda05809ab4e911",
            "48f3cd404fec4468917dd6c92dd5d415"
          ]
        },
        "id": "POqDjzOWgeyj",
        "outputId": "de934b39-e2c9-47a8-b494-7b7441c89b04"
      },
      "execution_count": 14,
      "outputs": [
        {
          "output_type": "display_data",
          "data": {
            "text/plain": [
              "  0%|          | 0/4599 [00:00<?, ?it/s]"
            ],
            "application/vnd.jupyter.widget-view+json": {
              "version_major": 2,
              "version_minor": 0,
              "model_id": "a2f576c6c48c4f0889b0c836bed2c447"
            }
          },
          "metadata": {}
        }
      ]
    },
    {
      "cell_type": "code",
      "source": [
        "target_df"
      ],
      "metadata": {
        "id": "m8s_X3CUArwn"
      },
      "execution_count": null,
      "outputs": []
    },
    {
      "cell_type": "code",
      "source": [
        "pd.set_option('display.max_colwidth', 1000)"
      ],
      "metadata": {
        "id": "e1hZEXwDtrhX"
      },
      "execution_count": 15,
      "outputs": []
    },
    {
      "cell_type": "code",
      "source": [
        "df_defs = pd.read_csv('/content/mas_definitions.csv')"
      ],
      "metadata": {
        "id": "gNI4E5x5iExf"
      },
      "execution_count": 16,
      "outputs": []
    },
    {
      "cell_type": "code",
      "source": [
        "df_defs['predict_sense_id'] = [disambiguate(vm, word, context) for word, context in tqdm(zip(df_defs['word'], df_defs['definition']), total=len(df_defs))]"
      ],
      "metadata": {
        "colab": {
          "base_uri": "https://localhost:8080/",
          "height": 49,
          "referenced_widgets": [
            "70d4cfdaa0a3435ca79c11a3de4726ad",
            "85bec9e8b0c74f91b0641c86f6ab7cab",
            "c2f294f665364806a257e69d5b67366f",
            "05d0f2385221404391e2513a366b664a",
            "d126fdccf31e4a54a25e8faa87516a0a",
            "2d88e2126fa744a198613969d7ec8598",
            "236d8e325ec0472888ef69182ba3eba7",
            "c817ff30448740b99f9b34759488bbeb",
            "fc853097d6e040b2aa5f6c0e4e2e912e",
            "2b07fbb812794162a9ad5b7a58ca2422",
            "7bea38d613ac4d9a93641b15e2f27f4c"
          ]
        },
        "id": "TyxJ9MuLudrQ",
        "outputId": "f7403f22-3851-4b0d-84c5-4c00df06952f"
      },
      "execution_count": 17,
      "outputs": [
        {
          "output_type": "display_data",
          "data": {
            "text/plain": [
              "  0%|          | 0/41 [00:00<?, ?it/s]"
            ],
            "application/vnd.jupyter.widget-view+json": {
              "version_major": 2,
              "version_minor": 0,
              "model_id": "70d4cfdaa0a3435ca79c11a3de4726ad"
            }
          },
          "metadata": {}
        }
      ]
    },
    {
      "cell_type": "code",
      "source": [
        "df_defs_no_dupes = df_defs.drop_duplicates(subset=['word','predict_sense_id'])"
      ],
      "metadata": {
        "id": "NoqpNL3S7Jvk"
      },
      "execution_count": 19,
      "outputs": []
    },
    {
      "cell_type": "code",
      "source": [
        "data_ada = []\n",
        "for i in df_defs_no_dupes.values.tolist():\n",
        "  # print([i[0], i[2]])\n",
        "  my_list = list(target_df[(target_df['aligned'] == i[0]) & (target_df['predict_sense_id'] == i[2])]['text'])[:5]\n",
        "  print(len(my_list))\n",
        "  for j in my_list:\n",
        "    data_ada.append([i[0], i[2], j])"
      ],
      "metadata": {
        "id": "VXt-FB5r1SWw"
      },
      "execution_count": null,
      "outputs": []
    },
    {
      "cell_type": "code",
      "source": [
        "data_ada = pd.DataFrame(data_ada, columns=['word', 'label', 'context'])\n",
        "data_ada.to_csv('stats_adagramm.csv')"
      ],
      "metadata": {
        "id": "fw949db_16oh"
      },
      "execution_count": 160,
      "outputs": []
    },
    {
      "cell_type": "markdown",
      "source": [
        "## Дособираю данные"
      ],
      "metadata": {
        "id": "c59ujtSjX4sb"
      }
    },
    {
      "cell_type": "code",
      "source": [
        "mera_df = target_df[target_df['aligned'] == 'мера']\n",
        "mera_df"
      ],
      "metadata": {
        "id": "i_AnMQy27nRx"
      },
      "execution_count": null,
      "outputs": []
    },
    {
      "cell_type": "code",
      "source": [
        "mera_df['predict_sense_id'] = [disambiguate(vm, word, context) for word, context in tqdm(zip(mera_df['aligned'], mera_df['text']), total=len(mera_df))]"
      ],
      "metadata": {
        "colab": {
          "base_uri": "https://localhost:8080/",
          "height": 49,
          "referenced_widgets": [
            "11556a53aef042c1b89a9120661ebac2",
            "c5f3eb590c77422ea28b292a4101a27b",
            "a5c1e0d0117a4bbe905ccdd427d533a4",
            "428d9166700743a38296d747e50df9c1",
            "90bc2eca5eeb4ce394cd5bf5dbd22982",
            "390be64acda1457e80296a8a754766d3",
            "b4c906ae526649c588b3d80196978c3f",
            "2af2914dbdfc4d7293633bdc2b9f2431",
            "57e0d86a8103492d9ade1e39454f2b49",
            "56824b3995854145ae50123e3ba7e72a",
            "868702949c7b4f45bef02e87e8ab08a8"
          ]
        },
        "id": "8mXebHCmbgvS",
        "outputId": "23c99f4e-90d7-4e1a-855e-b237756fffb9"
      },
      "execution_count": 27,
      "outputs": [
        {
          "output_type": "display_data",
          "data": {
            "text/plain": [
              "  0%|          | 0/2381 [00:00<?, ?it/s]"
            ],
            "application/vnd.jupyter.widget-view+json": {
              "version_major": 2,
              "version_minor": 0,
              "model_id": "11556a53aef042c1b89a9120661ebac2"
            }
          },
          "metadata": {}
        }
      ]
    },
    {
      "cell_type": "code",
      "source": [
        "mera_df.to_csv('mas_contexts_1.csv', mode='a', header=False)"
      ],
      "metadata": {
        "id": "VFwxFqxT9nB4"
      },
      "execution_count": 29,
      "outputs": []
    },
    {
      "cell_type": "code",
      "source": [
        "mera_df_new = mera_df.groupby(['aligned', 'predict_sense_id'])['text'].apply(lambda x: x[:5]).to_frame()"
      ],
      "metadata": {
        "id": "FdP0IhX4d6NJ"
      },
      "execution_count": 55,
      "outputs": []
    },
    {
      "cell_type": "code",
      "source": [
        "mera_df_new.to_csv('stats_adagramm.csv', mode='a', header=False)"
      ],
      "metadata": {
        "id": "crTI-LAXfpOK"
      },
      "execution_count": 57,
      "outputs": []
    },
    {
      "cell_type": "code",
      "source": [
        "def_mera = pd.read_csv('/content/mas_definitions_mera.csv')\n",
        "def_mera['predict_sense_id'] = [disambiguate(vm, word, context) for word, context in tqdm(zip(def_mera['word'], def_mera['defintion']), total=len(def_mera))]"
      ],
      "metadata": {
        "colab": {
          "base_uri": "https://localhost:8080/",
          "height": 49,
          "referenced_widgets": [
            "cfa4b666415c4951a17f7384ddaf9ca9",
            "7bb846d49c564bbd8529db9fe4c99ae3",
            "17e21abe36d4475b9d56fa86017da100",
            "dcc29f033a4640bb8d7549a924ac3c90",
            "0198b5e8f6c1424c96d4ef289217637f",
            "102031ecc0c944789b1606ffc0ddbd33",
            "851f898a5611495db7d0b4d54469a8ee",
            "42f0024a6d4442898b386163856cdef0",
            "c4fc902368bd4f06a4752ecdf2295cf1",
            "6b43e08a002148ff96d8e993ead2a451",
            "6a0f4627aec741d88d4b649fcb0e4b2b"
          ]
        },
        "id": "DP_8fX6NbSAq",
        "outputId": "675b3034-4543-4ded-fac4-752c1538dac2"
      },
      "execution_count": 34,
      "outputs": [
        {
          "output_type": "display_data",
          "data": {
            "text/plain": [
              "  0%|          | 0/6 [00:00<?, ?it/s]"
            ],
            "application/vnd.jupyter.widget-view+json": {
              "version_major": 2,
              "version_minor": 0,
              "model_id": "cfa4b666415c4951a17f7384ddaf9ca9"
            }
          },
          "metadata": {}
        }
      ]
    },
    {
      "cell_type": "code",
      "source": [
        "def_mera = def_mera.rename(columns={\"word\": \"word\", \"defintion\": \"definition\", \"predict_sense_id\": \"predict_sense_id\"})\n",
        "df_defs = df_defs.append(def_mera)"
      ],
      "metadata": {
        "id": "gWgVs0ywdKCC"
      },
      "execution_count": 59,
      "outputs": []
    },
    {
      "cell_type": "code",
      "source": [
        "df_defs.to_csv('defs_preds.csv')"
      ],
      "metadata": {
        "id": "YRkJFlSLdgyU"
      },
      "execution_count": 61,
      "outputs": []
    },
    {
      "cell_type": "code",
      "source": [
        "df_defs[(df_defs['definition'].str.contains('хвост')) | (df_defs['word'].isin(['кисть', 'игла', 'ключ', 'игра', 'мера']))]"
      ],
      "metadata": {
        "colab": {
          "base_uri": "https://localhost:8080/"
        },
        "id": "851pYbzDgZOA",
        "outputId": "d208b6a5-842d-45e8-a654-5d9c328f5de7"
      },
      "execution_count": 79,
      "outputs": [
        {
          "output_type": "execute_result",
          "data": {
            "text/plain": [
              "39"
            ]
          },
          "metadata": {},
          "execution_count": 79
        }
      ]
    },
    {
      "cell_type": "markdown",
      "source": [
        "## Accuracy AdaGramm\n"
      ],
      "metadata": {
        "id": "auPr2v_dnRGy"
      }
    },
    {
      "cell_type": "code",
      "source": [
        "acc_df_filtered = pd.read_csv('/content/stats - adagramm_checked.csv')\n",
        "trues = list(acc_df_filtered[acc_df_filtered.is_equivalent == 1]['is_equivalent'])\n",
        "print(f'Accuracy for filtered(excluding meanings not detected on definitions): {len(trues)/len(acc_df_filtered)}')"
      ],
      "metadata": {
        "colab": {
          "base_uri": "https://localhost:8080/"
        },
        "id": "z3vVT-c5pMlH",
        "outputId": "188937cc-814f-450f-f388-52337109ecba"
      },
      "execution_count": 180,
      "outputs": [
        {
          "output_type": "stream",
          "name": "stdout",
          "text": [
            "Accuracy for filtered(excluding meanings not detected on definitions): 0.4\n"
          ]
        }
      ]
    },
    {
      "cell_type": "markdown",
      "source": [
        "## ELMO + кластеры"
      ],
      "metadata": {
        "id": "P_pvtYe14KDd"
      }
    },
    {
      "cell_type": "code",
      "source": [
        "!wget http://vectors.nlpl.eu/repository/20/196.zip"
      ],
      "metadata": {
        "id": "-fJSwm0e5qAx"
      },
      "execution_count": null,
      "outputs": []
    },
    {
      "cell_type": "code",
      "source": [
        "model = ElmoModel()\n",
        "model.load(\"196.zip\")"
      ],
      "metadata": {
        "colab": {
          "base_uri": "https://localhost:8080/",
          "height": 35
        },
        "id": "kuJxCkpQqCIh",
        "outputId": "70b1cf8c-2e0a-44ee-acb6-99a7f19d3cc8"
      },
      "execution_count": 5,
      "outputs": [
        {
          "output_type": "execute_result",
          "data": {
            "text/plain": [
              "'The model is now loaded.'"
            ],
            "application/vnd.google.colaboratory.intrinsic+json": {
              "type": "string"
            }
          },
          "metadata": {},
          "execution_count": 5
        }
      ]
    },
    {
      "cell_type": "code",
      "source": [
        "elmo_df = target_df.sample(frac=0.5)"
      ],
      "metadata": {
        "id": "WvVBTUq57U3v"
      },
      "execution_count": 15,
      "outputs": []
    },
    {
      "cell_type": "code",
      "source": [
        "def get_elmo_vectors(word, contexts, model, normalized=False):\n",
        "    if normalized:\n",
        "      tokens = [c.split() for c in contexts]\n",
        "    else:\n",
        "      tokens = [normalize(c) for c in contexts]\n",
        "    all_vectors = model.get_elmo_vectors(tokens)\n",
        "    word_vecs = []\n",
        "    for i in trange(len(contexts)):\n",
        "          word_vecs.append(all_vectors[i][tokens[i].index(word)])\n",
        "    return word_vecs"
      ],
      "metadata": {
        "id": "ieAz6Dg-IWU0"
      },
      "execution_count": 6,
      "outputs": []
    },
    {
      "cell_type": "code",
      "source": [
        "elmo_dict = target_df.groupby(['aligned'])['lemmatized'].apply(lambda x: list(x)[:150]).to_dict()"
      ],
      "metadata": {
        "id": "MBUcxPeqOGgH"
      },
      "execution_count": 7,
      "outputs": []
    },
    {
      "cell_type": "code",
      "source": [
        "elmo_dict_text = target_df.groupby(['aligned'])['text'].apply(lambda x: list(x)[:150]).to_dict()"
      ],
      "metadata": {
        "id": "rDaFgL9XIoxm"
      },
      "execution_count": 32,
      "outputs": []
    },
    {
      "cell_type": "code",
      "source": [
        "import pickle\n",
        "with open('elmo_dict.pickle', 'wb') as f:\n",
        "     pickle.dump(elmo_dict, f)"
      ],
      "metadata": {
        "id": "LF4pfnTA3Eil"
      },
      "execution_count": 10,
      "outputs": []
    },
    {
      "cell_type": "code",
      "source": [
        "elmo_vectors = {}\n",
        "for i in elmo_dict:\n",
        "  X = get_elmo_vectors(i, elmo_dict[i], model, normalized=True)\n",
        "  if i in elmo_vectors:\n",
        "    elmo_vectors[i].append(X)\n",
        "  else:\n",
        "    elmo_vectors[i] = []\n",
        "    elmo_vectors[i].append(X)"
      ],
      "metadata": {
        "id": "woBuDhogOnQG"
      },
      "execution_count": null,
      "outputs": []
    },
    {
      "cell_type": "code",
      "source": [
        "import pickle\n",
        "with open('elmo_full.pickle', 'wb') as f:\n",
        "     pickle.dump(elmo_vectors, f)"
      ],
      "metadata": {
        "id": "45pwtqnhTLVD"
      },
      "execution_count": 11,
      "outputs": []
    },
    {
      "cell_type": "code",
      "source": [
        "with open('elmo_full.pickle', 'rb') as f:\n",
        "     elmo_vectors = pickle.load(f)"
      ],
      "metadata": {
        "id": "JLSu0qsuVlQS"
      },
      "execution_count": 27,
      "outputs": []
    },
    {
      "cell_type": "code",
      "source": [
        "df_defs_filtered = df_defs[(df_defs['definition'].str.contains('хвост')) | (df_defs['word'].isin(['кисть', 'игла', 'ключ', 'игра', 'мера']))]\n",
        "def_dict = df_defs_filtered.groupby(['word'])['definition'].apply(lambda x: list(x)).to_dict()\n",
        "def_vectors = {}\n",
        "for i in def_dict:\n",
        "  print(len(def_dict[i]))\n",
        "  X = np.array(get_elmo_vectors(i, def_dict[i], model))\n",
        "  print(X.shape)\n",
        "  def_vectors[i] = np.zeros((X.shape[0], 1024))\n",
        "  def_vectors[i] += X"
      ],
      "metadata": {
        "id": "i0KZjBu_ge6a"
      },
      "execution_count": null,
      "outputs": []
    },
    {
      "cell_type": "code",
      "source": [
        "from sklearn.cluster import AffinityPropagation\n",
        "\n",
        "elmo_labels = {}\n",
        "def_labels = {}\n",
        "for (key1, value1), (key2, value2) in zip(elmo_vectors.items(), def_vectors.items()):\n",
        "  result = np.array(value1).reshape(len(value1[0]), 1024)\n",
        "  cluster = AffinityPropagation(damping=0.9)\n",
        "  cluster.fit(result)\n",
        "  labels = np.array(cluster.labels_) + 1\n",
        "  predicts = np.array(cluster.predict(np.array(value2))) + 1\n",
        "\n",
        "  elmo_labels[key1] = np.zeros(len(labels))\n",
        "  elmo_labels[key1] += labels\n",
        "\n",
        "  def_labels[key2] = np.zeros(len(predicts))\n",
        "  def_labels[key2] += predicts"
      ],
      "metadata": {
        "id": "KmPEsB9ATvc4"
      },
      "execution_count": 66,
      "outputs": []
    },
    {
      "cell_type": "code",
      "source": [
        "list_defs = []\n",
        "flag = True\n",
        "for (key1, value1), (key2, value2) in zip(def_dict.items(), def_labels.items()):\n",
        "  counter = 0\n",
        "  for item in range(len(value1)-1):\n",
        "    if value2[item] != value2[item+1]:\n",
        "      counter += 1\n",
        "      if counter <= 2:\n",
        "        list_defs.append([key1, value1[item], value2[item]])\n",
        "    else:\n",
        "      continue\n",
        "\n",
        "print(list_defs)"
      ],
      "metadata": {
        "id": "oDBKjE-j0s1I"
      },
      "execution_count": null,
      "outputs": []
    },
    {
      "cell_type": "code",
      "source": [
        "contexts_df_elmo = pd.DataFrame(list_contexts, columns = ['word', 'context', 'predicted_label'])\n",
        "contexts_df_elmo"
      ],
      "metadata": {
        "id": "0iMRNwR_IZ59"
      },
      "execution_count": null,
      "outputs": []
    },
    {
      "cell_type": "code",
      "source": [
        "data = []\n",
        "for i in list_defs:\n",
        "  my_list = list(contexts_df_elmo[(contexts_df_elmo['word'] == i[0]) & (contexts_df_elmo['predicted_label'] == i[2])]['context'])[:5]\n",
        "  for j in my_list:\n",
        "    data.append([i[0], i[2], j])"
      ],
      "metadata": {
        "id": "B3GcASc0qL-i"
      },
      "execution_count": 109,
      "outputs": []
    },
    {
      "cell_type": "code",
      "source": [
        "list_contexts = []\n",
        "for (key1, value1), (key2, value2) in zip(elmo_dict_text.items(), elmo_labels.items()):\n",
        "  for item in range(len(value1)):\n",
        "    list_contexts.append([key1, value1[item], value2[item]])"
      ],
      "metadata": {
        "id": "g_1elwOhIN7m"
      },
      "execution_count": 110,
      "outputs": []
    },
    {
      "cell_type": "code",
      "source": [
        "defs_df_elmo = pd.DataFrame(list_defs, columns = ['word', 'definition', 'predicted_label'])\n",
        "defs_df_elmo"
      ],
      "metadata": {
        "id": "ONsHAF-aVSG5"
      },
      "execution_count": null,
      "outputs": []
    },
    {
      "cell_type": "code",
      "source": [
        "contexts_df_elmo_new = pd.DataFrame(data, columns = ['word', 'label', 'context'])"
      ],
      "metadata": {
        "id": "ccZ0OpCuKGZ2"
      },
      "execution_count": 117,
      "outputs": []
    },
    {
      "cell_type": "code",
      "source": [
        "contexts_df_elmo_new.to_csv('stats_elmo.csv')"
      ],
      "metadata": {
        "id": "Dxf4OHe9lwr-"
      },
      "execution_count": 120,
      "outputs": []
    },
    {
      "cell_type": "markdown",
      "source": [
        "## Accuracy Elmo"
      ],
      "metadata": {
        "id": "a39Vepc1joKd"
      }
    },
    {
      "cell_type": "markdown",
      "source": [
        "Для сравнения с адаграмм решила использовать 3й эксперимент (сохранение только тех значений, которые были определены для словарных статей), отбросила лишнее при разметке."
      ],
      "metadata": {
        "id": "OdoN1xl-kvyM"
      }
    },
    {
      "cell_type": "code",
      "source": [
        "stats_elmo = pd.read_csv('/content/stats - elmo_checked.csv')\n",
        "stats_elmo"
      ],
      "metadata": {
        "id": "sgqigDwKPnhL"
      },
      "execution_count": null,
      "outputs": []
    },
    {
      "cell_type": "code",
      "source": [
        "trues_elmo = list(stats_elmo[stats_elmo.is_equivalent == 1]['is_equivalent'])\n",
        "print(f'Accuracy for filtered(excluding meanings not detected on definitions): {len(trues_elmo)/len(stats_elmo)}')"
      ],
      "metadata": {
        "colab": {
          "base_uri": "https://localhost:8080/"
        },
        "id": "b4jAFtvmjzC-",
        "outputId": "0a92d9c8-f497-4939-e27c-0321c481dc46"
      },
      "execution_count": 177,
      "outputs": [
        {
          "output_type": "stream",
          "name": "stdout",
          "text": [
            "Accuracy for filtered(excluding meanings not detected on definitions): 0.3541666666666667\n"
          ]
        }
      ]
    },
    {
      "cell_type": "markdown",
      "source": [
        "## Итог"
      ],
      "metadata": {
        "id": "Nrt4q7S8k-Wt"
      }
    },
    {
      "cell_type": "markdown",
      "source": [
        "Результаты:\n",
        "\n",
        "\n",
        "*   AdaGramm -- 0.4\n",
        "*   ELMo -- 0.35\n",
        "\n",
        "Эти результаты довольно далеко от SoTA результатов. (Вот [здесь](sciendo.com/downloadpdf/journals/cait/20/4/article-p90.xml), например, на ELMo векторах для русского удается выбить 0.8). Во-первых, наш способ составлять золотой стандарт кажется мне не самым удачным, так как обе модели галлюцинируют на словарных значениях. Возможные причины:\n",
        "\n"
      ],
      "metadata": {
        "id": "onYIeeyil25P"
      }
    },
    {
      "cell_type": "markdown",
      "source": [
        "  *   Плохой контекст:  \n",
        "    В словарной статье редко встречаются частотные контексты для слова -- максимум 1 пример, при этом есть много \"мусора\" -- слишком общие слова (например, гиперонимы) типа \"деятельность, предмет\", с которыми таргетное не очень часто встречается в контексте, или различные сокращения, примечания, фамилии авторов, которые также не являются прототипическим контекстом для слова.\n",
        "\n",
        "  *   Маленький контекст:   \n",
        "    Мало того, что контекст плохой, он еще и маленький. (На более длинных текстах, по моему опыту AdaGramm работает лучше)\n",
        "\n",
        "  *   В словаре есть нечастотные значения:  \n",
        "    В МАС есть много супер специальных и устаревших значений, если модель не получала подобные примеры при обучении, так как их не встретишь в боьшинстве текстов, то галлюцинации ну удивительны.\n",
        "Пример галлюцинации:\n",
        "Одно значение для хвоста как придатка и для термина из горнодобывающей промышленности (кажется, что на практике это совсем разные значения):\n",
        "![image.png](data:image/png;base64,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)  \n",
        "![image.png](data:image/png;base64,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)\n"
      ],
      "metadata": {
        "id": "T3RpJwfDtW8-"
      }
    },
    {
      "cell_type": "markdown",
      "source": [
        "Еще одна проблема с золотым стандартом по значениям заключается в том, что некоторым словарным статьям приписывается один лейбл (см. пример с *хвостом* выше). Когда мы в нашей постановке задачи пытаемся выбрать 2-3 значения (рандомно, я следила за тем, чтобы выбрать значения с разными лейблами), в нашу выборку может попасть не прототипическое значение. Так в датасете ELMo у меня отобралось очень специальное значение для горнодобывающей промышленности, которое, естественно, ни разу не встречается в моем корпусе. Если бы рандомно мне выпало более прототипическое значение, метрика была бы выше. Поинт в том, что непонятно, как разделять словарные статьи с одним лейблом.\n",
        "\n",
        "**Возможное решение** -- для значений попарно считать расстояние (например, косинусную близость) в adjacency matrix, например, **если значения похожи**:\n",
        "\n",
        "\n",
        "*   и имеют одинаковый лейбл --> слить их в одно значение\n",
        "*   и имеют разные лейблы --> присвоить второму лейбл первого и слить  \n",
        "\n",
        "**Если значени не похожи**:\n",
        "*   и имеют одинаковый лейбл --> присвоить одному из них лейбл наиболее с ним похожего\n",
        "*   и имеют разные лейблы --> ничего не делать\n",
        "И повторять эту процедуру пока мы не получим, что для всех похожих у нас будет мальенькое расстояние, для всех непохожих большое.  \n",
        "\n",
        "**Сложности** -- непонятно, какой порог выбрать для схожести, может быть вычислительно сложно (хотя сами матрицы будут небольшими -- 10*10, если у слова 10 значений -- матриц может быть много)\n",
        "\n",
        "**Еще одно решение** -- просто аккуратнее выбирать значения, совсем специальные отбрасывать, более современные, которых нет в словарях добавлять (в словаре Ефремовой для *карты* нет значеня 'банковская карта', которое в корпусе встречается часто).\n",
        "\n",
        "**Если создать частично ручной золтой стандарт с четкими лейблами, можно будет использовать задачу классификации, что дает лучшие [результаты](sciendo.com/downloadpdf/journals/cait/20/4/article-p90.xml)**.\n",
        "\n",
        "\n",
        "### Почему AdaGramm справляется лучше, чем ELMo + AffinityPropagation?\n",
        "\n",
        "\n",
        "1.   Так как лейблы выбирались рандомно, для AdaGramm могли выбраться просто более прототипические леблы (но я думаю, что дело не в этом, так как в обоих финальных датасетах встречаются не очень прототипические слова равной мере)\n",
        "2.   Кластеризатор внутри AdaGramm-а имел сильно бОльшую тренировочную выборку;\n"
      ],
      "metadata": {
        "id": "n85s3vP4hquA"
      }
    }
  ]
}